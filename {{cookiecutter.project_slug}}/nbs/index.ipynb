{
 "cells": [
  {
   "cell_type": "code",
   "execution_count": null,
   "id": "698b6b5e",
   "metadata": {},
   "outputs": [],
   "source": [
    "from {{cookiecutter.project_slug}} import main"
   ]
  },
  {
   "cell_type": "code",
   "execution_count": null,
   "id": "d667b4aa",
   "metadata": {},
   "outputs": [],
   "source": [
    "main()"
   ]
  }
 ],
 "metadata": {
  "language_info": {
   "name": "python"
  }
 },
 "nbformat": 4,
 "nbformat_minor": 5
}
